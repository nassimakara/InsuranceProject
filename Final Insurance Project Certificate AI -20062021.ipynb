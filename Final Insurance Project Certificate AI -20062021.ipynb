{
 "cells": [
  {
   "cell_type": "markdown",
   "id": "26eade69",
   "metadata": {},
   "source": [
    "## Read the dataset"
   ]
  },
  {
   "cell_type": "code",
   "execution_count": 55,
   "id": "537787e1",
   "metadata": {},
   "outputs": [],
   "source": [
    "import numpy as np\n",
    "import pandas as pd"
   ]
  },
  {
   "cell_type": "code",
   "execution_count": 56,
   "id": "7cab7bba",
   "metadata": {
    "scrolled": true
   },
   "outputs": [
    {
     "data": {
      "text/html": [
       "<div>\n",
       "<style scoped>\n",
       "    .dataframe tbody tr th:only-of-type {\n",
       "        vertical-align: middle;\n",
       "    }\n",
       "\n",
       "    .dataframe tbody tr th {\n",
       "        vertical-align: top;\n",
       "    }\n",
       "\n",
       "    .dataframe thead th {\n",
       "        text-align: right;\n",
       "    }\n",
       "</style>\n",
       "<table border=\"1\" class=\"dataframe\">\n",
       "  <thead>\n",
       "    <tr style=\"text-align: right;\">\n",
       "      <th></th>\n",
       "      <th>CustomerID</th>\n",
       "      <th>Title</th>\n",
       "      <th>GivenName</th>\n",
       "      <th>MiddleInitial</th>\n",
       "      <th>Surname</th>\n",
       "      <th>CreditCardType</th>\n",
       "      <th>Occupation</th>\n",
       "      <th>Gender</th>\n",
       "      <th>Age</th>\n",
       "      <th>Location</th>\n",
       "      <th>MotorInsurance</th>\n",
       "      <th>MotorValue</th>\n",
       "      <th>MotorType</th>\n",
       "      <th>HealthInsurance</th>\n",
       "      <th>HealthType</th>\n",
       "      <th>HealthDependentsAdults</th>\n",
       "      <th>HealthDependentsKids</th>\n",
       "      <th>TravelInsurance</th>\n",
       "      <th>TravelType</th>\n",
       "      <th>PrefChannel</th>\n",
       "    </tr>\n",
       "  </thead>\n",
       "  <tbody>\n",
       "    <tr>\n",
       "      <th>0</th>\n",
       "      <td>1</td>\n",
       "      <td>Mrs.</td>\n",
       "      <td>Macy</td>\n",
       "      <td>A</td>\n",
       "      <td>Boyle</td>\n",
       "      <td>AMEX</td>\n",
       "      <td>Clinical laboratory technologist</td>\n",
       "      <td>female</td>\n",
       "      <td>23</td>\n",
       "      <td>Urban</td>\n",
       "      <td>No</td>\n",
       "      <td>NaN</td>\n",
       "      <td>NaN</td>\n",
       "      <td>No</td>\n",
       "      <td>NaN</td>\n",
       "      <td>NaN</td>\n",
       "      <td>NaN</td>\n",
       "      <td>Yes</td>\n",
       "      <td>Premium</td>\n",
       "      <td>SMS</td>\n",
       "    </tr>\n",
       "    <tr>\n",
       "      <th>1</th>\n",
       "      <td>2</td>\n",
       "      <td>Ms.</td>\n",
       "      <td>Thea</td>\n",
       "      <td>L</td>\n",
       "      <td>McIntosh</td>\n",
       "      <td>AMEX</td>\n",
       "      <td>NaN</td>\n",
       "      <td>female</td>\n",
       "      <td>44</td>\n",
       "      <td>Urban</td>\n",
       "      <td>No</td>\n",
       "      <td>NaN</td>\n",
       "      <td>NaN</td>\n",
       "      <td>Yes</td>\n",
       "      <td>Level1</td>\n",
       "      <td>2.0</td>\n",
       "      <td>3.0</td>\n",
       "      <td>No</td>\n",
       "      <td>NaN</td>\n",
       "      <td>Phone</td>\n",
       "    </tr>\n",
       "    <tr>\n",
       "      <th>2</th>\n",
       "      <td>4</td>\n",
       "      <td>Ms.</td>\n",
       "      <td>Murron</td>\n",
       "      <td>P</td>\n",
       "      <td>Miller</td>\n",
       "      <td>AMEX</td>\n",
       "      <td>Sheriff</td>\n",
       "      <td>female</td>\n",
       "      <td>19</td>\n",
       "      <td>Urban</td>\n",
       "      <td>Yes</td>\n",
       "      <td>4920.0</td>\n",
       "      <td>Bundle</td>\n",
       "      <td>No</td>\n",
       "      <td>NaN</td>\n",
       "      <td>NaN</td>\n",
       "      <td>NaN</td>\n",
       "      <td>No</td>\n",
       "      <td>NaN</td>\n",
       "      <td>SMS</td>\n",
       "    </tr>\n",
       "    <tr>\n",
       "      <th>3</th>\n",
       "      <td>5</td>\n",
       "      <td>Mr.</td>\n",
       "      <td>Kai</td>\n",
       "      <td>A</td>\n",
       "      <td>Henderson</td>\n",
       "      <td>Visa</td>\n",
       "      <td>Automotive painter</td>\n",
       "      <td>male</td>\n",
       "      <td>47</td>\n",
       "      <td>Rural</td>\n",
       "      <td>Yes</td>\n",
       "      <td>14994.0</td>\n",
       "      <td>Single</td>\n",
       "      <td>Yes</td>\n",
       "      <td>Level1</td>\n",
       "      <td>1.0</td>\n",
       "      <td>2.0</td>\n",
       "      <td>Yes</td>\n",
       "      <td>Business</td>\n",
       "      <td>Phone</td>\n",
       "    </tr>\n",
       "    <tr>\n",
       "      <th>4</th>\n",
       "      <td>11</td>\n",
       "      <td>Mrs.</td>\n",
       "      <td>Kayla</td>\n",
       "      <td>A</td>\n",
       "      <td>Brown</td>\n",
       "      <td>Visa</td>\n",
       "      <td>Risk manager</td>\n",
       "      <td>female</td>\n",
       "      <td>54</td>\n",
       "      <td>Rural</td>\n",
       "      <td>Yes</td>\n",
       "      <td>14605.0</td>\n",
       "      <td>Single</td>\n",
       "      <td>Yes</td>\n",
       "      <td>Level2</td>\n",
       "      <td>2.0</td>\n",
       "      <td>3.0</td>\n",
       "      <td>No</td>\n",
       "      <td>NaN</td>\n",
       "      <td>Email</td>\n",
       "    </tr>\n",
       "  </tbody>\n",
       "</table>\n",
       "</div>"
      ],
      "text/plain": [
       "   CustomerID Title GivenName MiddleInitial    Surname CreditCardType  \\\n",
       "0           1  Mrs.      Macy             A      Boyle           AMEX   \n",
       "1           2   Ms.      Thea             L   McIntosh           AMEX   \n",
       "2           4   Ms.    Murron             P     Miller           AMEX   \n",
       "3           5   Mr.       Kai             A  Henderson           Visa   \n",
       "4          11  Mrs.     Kayla             A      Brown           Visa   \n",
       "\n",
       "                         Occupation  Gender  Age Location MotorInsurance  \\\n",
       "0  Clinical laboratory technologist  female   23    Urban             No   \n",
       "1                               NaN  female   44    Urban             No   \n",
       "2                           Sheriff  female   19    Urban            Yes   \n",
       "3                Automotive painter    male   47    Rural            Yes   \n",
       "4                      Risk manager  female   54    Rural            Yes   \n",
       "\n",
       "   MotorValue MotorType HealthInsurance HealthType  HealthDependentsAdults  \\\n",
       "0         NaN       NaN              No        NaN                     NaN   \n",
       "1         NaN       NaN             Yes     Level1                     2.0   \n",
       "2      4920.0    Bundle              No        NaN                     NaN   \n",
       "3     14994.0    Single             Yes     Level1                     1.0   \n",
       "4     14605.0    Single             Yes     Level2                     2.0   \n",
       "\n",
       "   HealthDependentsKids TravelInsurance TravelType PrefChannel  \n",
       "0                   NaN             Yes    Premium         SMS  \n",
       "1                   3.0              No        NaN       Phone  \n",
       "2                   NaN              No        NaN         SMS  \n",
       "3                   2.0             Yes   Business       Phone  \n",
       "4                   3.0              No        NaN       Email  "
      ]
     },
     "execution_count": 56,
     "metadata": {},
     "output_type": "execute_result"
    }
   ],
   "source": [
    "data = pd.read_csv(\"Insurance_Data_Training.csv\")\n",
    "data.head()"
   ]
  },
  {
   "cell_type": "markdown",
   "id": "67f65685",
   "metadata": {},
   "source": [
    "## Data Cleaning"
   ]
  },
  {
   "cell_type": "code",
   "execution_count": 57,
   "id": "3c1f8bb5",
   "metadata": {},
   "outputs": [
    {
     "data": {
      "text/html": [
       "<div>\n",
       "<style scoped>\n",
       "    .dataframe tbody tr th:only-of-type {\n",
       "        vertical-align: middle;\n",
       "    }\n",
       "\n",
       "    .dataframe tbody tr th {\n",
       "        vertical-align: top;\n",
       "    }\n",
       "\n",
       "    .dataframe thead th {\n",
       "        text-align: right;\n",
       "    }\n",
       "</style>\n",
       "<table border=\"1\" class=\"dataframe\">\n",
       "  <thead>\n",
       "    <tr style=\"text-align: right;\">\n",
       "      <th></th>\n",
       "      <th>CreditCardType</th>\n",
       "      <th>Occupation</th>\n",
       "      <th>Gender</th>\n",
       "      <th>Age</th>\n",
       "      <th>Location</th>\n",
       "      <th>MotorInsurance</th>\n",
       "      <th>MotorValue</th>\n",
       "      <th>MotorType</th>\n",
       "      <th>HealthInsurance</th>\n",
       "      <th>HealthType</th>\n",
       "      <th>HealthDependentsAdults</th>\n",
       "      <th>HealthDependentsKids</th>\n",
       "      <th>TravelInsurance</th>\n",
       "      <th>TravelType</th>\n",
       "      <th>PrefChannel</th>\n",
       "    </tr>\n",
       "  </thead>\n",
       "  <tbody>\n",
       "    <tr>\n",
       "      <th>0</th>\n",
       "      <td>AMEX</td>\n",
       "      <td>Clinical laboratory technologist</td>\n",
       "      <td>female</td>\n",
       "      <td>23</td>\n",
       "      <td>Urban</td>\n",
       "      <td>No</td>\n",
       "      <td>NaN</td>\n",
       "      <td>NaN</td>\n",
       "      <td>No</td>\n",
       "      <td>NaN</td>\n",
       "      <td>NaN</td>\n",
       "      <td>NaN</td>\n",
       "      <td>Yes</td>\n",
       "      <td>Premium</td>\n",
       "      <td>SMS</td>\n",
       "    </tr>\n",
       "    <tr>\n",
       "      <th>1</th>\n",
       "      <td>AMEX</td>\n",
       "      <td>NaN</td>\n",
       "      <td>female</td>\n",
       "      <td>44</td>\n",
       "      <td>Urban</td>\n",
       "      <td>No</td>\n",
       "      <td>NaN</td>\n",
       "      <td>NaN</td>\n",
       "      <td>Yes</td>\n",
       "      <td>Level1</td>\n",
       "      <td>2.0</td>\n",
       "      <td>3.0</td>\n",
       "      <td>No</td>\n",
       "      <td>NaN</td>\n",
       "      <td>Phone</td>\n",
       "    </tr>\n",
       "    <tr>\n",
       "      <th>2</th>\n",
       "      <td>AMEX</td>\n",
       "      <td>Sheriff</td>\n",
       "      <td>female</td>\n",
       "      <td>19</td>\n",
       "      <td>Urban</td>\n",
       "      <td>Yes</td>\n",
       "      <td>4920.0</td>\n",
       "      <td>Bundle</td>\n",
       "      <td>No</td>\n",
       "      <td>NaN</td>\n",
       "      <td>NaN</td>\n",
       "      <td>NaN</td>\n",
       "      <td>No</td>\n",
       "      <td>NaN</td>\n",
       "      <td>SMS</td>\n",
       "    </tr>\n",
       "    <tr>\n",
       "      <th>3</th>\n",
       "      <td>Visa</td>\n",
       "      <td>Automotive painter</td>\n",
       "      <td>male</td>\n",
       "      <td>47</td>\n",
       "      <td>Rural</td>\n",
       "      <td>Yes</td>\n",
       "      <td>14994.0</td>\n",
       "      <td>Single</td>\n",
       "      <td>Yes</td>\n",
       "      <td>Level1</td>\n",
       "      <td>1.0</td>\n",
       "      <td>2.0</td>\n",
       "      <td>Yes</td>\n",
       "      <td>Business</td>\n",
       "      <td>Phone</td>\n",
       "    </tr>\n",
       "    <tr>\n",
       "      <th>4</th>\n",
       "      <td>Visa</td>\n",
       "      <td>Risk manager</td>\n",
       "      <td>female</td>\n",
       "      <td>54</td>\n",
       "      <td>Rural</td>\n",
       "      <td>Yes</td>\n",
       "      <td>14605.0</td>\n",
       "      <td>Single</td>\n",
       "      <td>Yes</td>\n",
       "      <td>Level2</td>\n",
       "      <td>2.0</td>\n",
       "      <td>3.0</td>\n",
       "      <td>No</td>\n",
       "      <td>NaN</td>\n",
       "      <td>Email</td>\n",
       "    </tr>\n",
       "  </tbody>\n",
       "</table>\n",
       "</div>"
      ],
      "text/plain": [
       "  CreditCardType                        Occupation  Gender  Age Location  \\\n",
       "0           AMEX  Clinical laboratory technologist  female   23    Urban   \n",
       "1           AMEX                               NaN  female   44    Urban   \n",
       "2           AMEX                           Sheriff  female   19    Urban   \n",
       "3           Visa                Automotive painter    male   47    Rural   \n",
       "4           Visa                      Risk manager  female   54    Rural   \n",
       "\n",
       "  MotorInsurance  MotorValue MotorType HealthInsurance HealthType  \\\n",
       "0             No         NaN       NaN              No        NaN   \n",
       "1             No         NaN       NaN             Yes     Level1   \n",
       "2            Yes      4920.0    Bundle              No        NaN   \n",
       "3            Yes     14994.0    Single             Yes     Level1   \n",
       "4            Yes     14605.0    Single             Yes     Level2   \n",
       "\n",
       "   HealthDependentsAdults  HealthDependentsKids TravelInsurance TravelType  \\\n",
       "0                     NaN                   NaN             Yes    Premium   \n",
       "1                     2.0                   3.0              No        NaN   \n",
       "2                     NaN                   NaN              No        NaN   \n",
       "3                     1.0                   2.0             Yes   Business   \n",
       "4                     2.0                   3.0              No        NaN   \n",
       "\n",
       "  PrefChannel  \n",
       "0         SMS  \n",
       "1       Phone  \n",
       "2         SMS  \n",
       "3       Phone  \n",
       "4       Email  "
      ]
     },
     "execution_count": 57,
     "metadata": {},
     "output_type": "execute_result"
    }
   ],
   "source": [
    "## Dropping unnecesary columns\n",
    "data = data.drop(columns=['CustomerID','Title','GivenName','MiddleInitial','Surname'])\n",
    "data.head()"
   ]
  },
  {
   "cell_type": "code",
   "execution_count": 58,
   "id": "8bd71a27",
   "metadata": {},
   "outputs": [
    {
     "name": "stdout",
     "output_type": "stream",
     "text": [
      "<class 'pandas.core.frame.DataFrame'>\n",
      "RangeIndex: 4109 entries, 0 to 4108\n",
      "Data columns (total 15 columns):\n",
      " #   Column                  Non-Null Count  Dtype  \n",
      "---  ------                  --------------  -----  \n",
      " 0   CreditCardType          3383 non-null   object \n",
      " 1   Occupation              2549 non-null   object \n",
      " 2   Gender                  4109 non-null   object \n",
      " 3   Age                     4109 non-null   int64  \n",
      " 4   Location                4109 non-null   object \n",
      " 5   MotorInsurance          4109 non-null   object \n",
      " 6   MotorValue              3378 non-null   float64\n",
      " 7   MotorType               3378 non-null   object \n",
      " 8   HealthInsurance         4109 non-null   object \n",
      " 9   HealthType              2555 non-null   object \n",
      " 10  HealthDependentsAdults  2555 non-null   float64\n",
      " 11  HealthDependentsKids    2555 non-null   float64\n",
      " 12  TravelInsurance         4109 non-null   object \n",
      " 13  TravelType              2120 non-null   object \n",
      " 14  PrefChannel             4109 non-null   object \n",
      "dtypes: float64(3), int64(1), object(11)\n",
      "memory usage: 481.6+ KB\n"
     ]
    }
   ],
   "source": [
    "## Getting information about data types and non-null values\n",
    "data.info()"
   ]
  },
  {
   "cell_type": "code",
   "execution_count": 59,
   "id": "b7f4950c",
   "metadata": {},
   "outputs": [
    {
     "data": {
      "text/plain": [
       "female    2073\n",
       "male      2013\n",
       "f           14\n",
       "m            9\n",
       "Name: Gender, dtype: int64"
      ]
     },
     "execution_count": 59,
     "metadata": {},
     "output_type": "execute_result"
    }
   ],
   "source": [
    "## Check the number of male and female\n",
    "data['Gender'].value_counts()"
   ]
  },
  {
   "cell_type": "code",
   "execution_count": 60,
   "id": "5c108b9e",
   "metadata": {},
   "outputs": [],
   "source": [
    "## Encode manually the gender, m for male and f for female\n",
    "data['Gender'] = data['Gender'].apply(lambda x:'male' if x=='m' else x)\n",
    "data['Gender'] = data['Gender'].apply(lambda x:'female' if x=='f' else x)"
   ]
  },
  {
   "cell_type": "code",
   "execution_count": 61,
   "id": "14ccc869",
   "metadata": {},
   "outputs": [
    {
     "data": {
      "text/plain": [
       "AMEX    1736\n",
       "Visa    1647\n",
       "Name: CreditCardType, dtype: int64"
      ]
     },
     "execution_count": 61,
     "metadata": {},
     "output_type": "execute_result"
    }
   ],
   "source": [
    "## Check the number of credit card type\n",
    "data['CreditCardType'].value_counts()"
   ]
  },
  {
   "cell_type": "code",
   "execution_count": 62,
   "id": "1f963803",
   "metadata": {},
   "outputs": [],
   "source": [
    "##Replace the null values of the CreditCardType column with \"not_given\".\n",
    "import math\n",
    "data['CreditCardType'] = data['CreditCardType'].apply(lambda x:'not_given' if type(x)==float and math.isnan(x) else x)"
   ]
  },
  {
   "cell_type": "code",
   "execution_count": 63,
   "id": "3b7f8f8a",
   "metadata": {},
   "outputs": [
    {
     "data": {
      "text/plain": [
       "HIV/AIDS nurse                   6\n",
       "Desktop publishing editor        5\n",
       "Systems analyst                  5\n",
       "Broker                           5\n",
       "Poultry cutter                   5\n",
       "                                ..\n",
       "Arc cutter                       1\n",
       "Training development director    1\n",
       "Dietetic technician              1\n",
       "Family services social worker    1\n",
       "Blogger                          1\n",
       "Name: Occupation, Length: 1595, dtype: int64"
      ]
     },
     "execution_count": 63,
     "metadata": {},
     "output_type": "execute_result"
    }
   ],
   "source": [
    "## Check the number of occupations\n",
    "data['Occupation'].value_counts()"
   ]
  },
  {
   "cell_type": "code",
   "execution_count": 64,
   "id": "4d0c112b",
   "metadata": {},
   "outputs": [],
   "source": [
    "## Replace the null values of the Occupation column with \"not_given\".\n",
    "\n",
    "import math\n",
    "data['Occupation'] = data['Occupation'].apply(lambda x:'not_given' if type(x)==float and math.isnan(x) else x)"
   ]
  },
  {
   "cell_type": "code",
   "execution_count": 65,
   "id": "90d9eacb",
   "metadata": {},
   "outputs": [
    {
     "data": {
      "text/plain": [
       "Single    2300\n",
       "Bundle    1078\n",
       "Name: MotorType, dtype: int64"
      ]
     },
     "execution_count": 65,
     "metadata": {},
     "output_type": "execute_result"
    }
   ],
   "source": [
    "## Check the number of motor types\n",
    "data['MotorType'].value_counts()"
   ]
  },
  {
   "cell_type": "code",
   "execution_count": 66,
   "id": "7036a7f6",
   "metadata": {},
   "outputs": [],
   "source": [
    "## Replace the null values with single\n",
    "data['MotorType'] = data['MotorType'].apply(lambda x:'Single' if type(x)==float and math.isnan(x) else x)"
   ]
  },
  {
   "cell_type": "code",
   "execution_count": 67,
   "id": "281f09ac",
   "metadata": {},
   "outputs": [
    {
     "data": {
      "text/plain": [
       "Level2    1258\n",
       "Level1     664\n",
       "Level3     633\n",
       "Name: HealthType, dtype: int64"
      ]
     },
     "execution_count": 67,
     "metadata": {},
     "output_type": "execute_result"
    }
   ],
   "source": [
    "## Check the number of health types\n",
    "data['HealthType'].value_counts()"
   ]
  },
  {
   "cell_type": "code",
   "execution_count": 68,
   "id": "8a88577c",
   "metadata": {},
   "outputs": [],
   "source": [
    "## Replace the null values with Level2\n",
    "data['HealthType'] = data['HealthType'].apply(lambda x:'Level2' if type(x)==float and math.isnan(x) else x)"
   ]
  },
  {
   "cell_type": "code",
   "execution_count": 69,
   "id": "d58d70af",
   "metadata": {},
   "outputs": [
    {
     "data": {
      "text/plain": [
       "Business      674\n",
       "Standard      479\n",
       "Premium       445\n",
       "Backpacker    337\n",
       "Senior        185\n",
       "Name: TravelType, dtype: int64"
      ]
     },
     "execution_count": 69,
     "metadata": {},
     "output_type": "execute_result"
    }
   ],
   "source": [
    "## Check the number of travel types do we have\n",
    "data['TravelType'].value_counts()"
   ]
  },
  {
   "cell_type": "code",
   "execution_count": 70,
   "id": "8a41ce8a",
   "metadata": {},
   "outputs": [],
   "source": [
    "## Replace the null values by not_given\n",
    "data['TravelType'] = data['TravelType'].apply(lambda x:'not_given' if type(x)==float and math.isnan(x) else x)"
   ]
  },
  {
   "cell_type": "code",
   "execution_count": 71,
   "id": "30caee9c",
   "metadata": {},
   "outputs": [],
   "source": [
    "## Replace the null values by the average in the numerical data\n",
    "\n",
    "data['MotorValue'] = data['MotorValue'].apply(lambda x:  np.mean(data['MotorValue']) if type(x)==float and math.isnan(x) else x)\n",
    "data['HealthDependentsAdults'] = data['HealthDependentsAdults'].apply(lambda x:  np.mean(data['HealthDependentsAdults']) if type(x)==float and math.isnan(x) else x)\n",
    "data['HealthDependentsKids'] = data['HealthDependentsKids'].apply(lambda x:  np.mean(data['HealthDependentsKids']) if type(x)==float and math.isnan(x) else x)"
   ]
  },
  {
   "cell_type": "code",
   "execution_count": 72,
   "id": "0c7287f8",
   "metadata": {},
   "outputs": [
    {
     "data": {
      "text/plain": [
       "Email    1772\n",
       "Phone    1564\n",
       "SMS       760\n",
       "P           6\n",
       "E           5\n",
       "S           2\n",
       "Name: PrefChannel, dtype: int64"
      ]
     },
     "execution_count": 72,
     "metadata": {},
     "output_type": "execute_result"
    }
   ],
   "source": [
    "data['PrefChannel'].value_counts()"
   ]
  },
  {
   "cell_type": "code",
   "execution_count": 73,
   "id": "1fa4ed35",
   "metadata": {},
   "outputs": [],
   "source": [
    "## Manual Encoding of the preferred channel\n",
    "data['PrefChannel'] = data['PrefChannel'].apply(lambda x:'Email' if x=='E' else x)\n",
    "data['PrefChannel'] = data['PrefChannel'].apply(lambda x:'Phone' if x=='P' else x)\n",
    "data['PrefChannel'] = data['PrefChannel'].apply(lambda x:'SMS' if x=='S' else x)"
   ]
  },
  {
   "cell_type": "code",
   "execution_count": 74,
   "id": "1f0bdc9a",
   "metadata": {},
   "outputs": [],
   "source": [
    "## Save the cleaned data\n",
    "data.to_csv('Insurance_cleaned.csv')"
   ]
  },
  {
   "cell_type": "code",
   "execution_count": 75,
   "id": "2b64fd80",
   "metadata": {},
   "outputs": [],
   "source": [
    "## Encoding of the categorical data\n",
    "\n",
    "## Encode categorical variables to numbers\n",
    "from sklearn.preprocessing import LabelEncoder\n",
    "encoder_credit_card_type = LabelEncoder()\n",
    "encoder_credit_card_type.fit(data['CreditCardType'])\n",
    "data['CreditCardType'] = encoder_credit_card_type.transform(data['CreditCardType'])\n",
    "encoder_occupation = LabelEncoder()\n",
    "encoder_occupation.fit(data['Occupation'])\n",
    "data['Occupation'] = encoder_occupation.transform(data['Occupation'])\n",
    "encoder_gender = LabelEncoder()\n",
    "encoder_gender.fit(data['Gender'])\n",
    "data['Gender'] = encoder_gender.transform(data['Gender'])\n",
    "encoder_location = LabelEncoder()\n",
    "encoder_location.fit(data['Location'])\n",
    "data['Location'] = encoder_location.transform(data['Location'])\n",
    "encoder_motor_insurance = LabelEncoder()\n",
    "encoder_motor_insurance.fit(data['MotorInsurance'])\n",
    "data['MotorInsurance'] = encoder_motor_insurance.transform(data['MotorInsurance'])\n",
    "encoder_health_insurance = LabelEncoder()\n",
    "encoder_health_insurance.fit(data['HealthInsurance'])\n",
    "data['HealthInsurance'] = encoder_health_insurance.transform(data['HealthInsurance'])\n",
    "encoder_travel_insurance = LabelEncoder()\n",
    "encoder_travel_insurance.fit(data['TravelInsurance'])\n",
    "data['TravelInsurance'] = encoder_travel_insurance.transform(data['TravelInsurance'])\n",
    "encoder_health_type = LabelEncoder()\n",
    "encoder_health_type.fit(data['HealthType'])\n",
    "data['HealthType'] = encoder_health_type.transform(data['HealthType'])\n",
    "encoder_motor_type = LabelEncoder()\n",
    "encoder_motor_type.fit(data['MotorType'])\n",
    "data['MotorType'] = encoder_motor_type.transform(data['MotorType'])\n",
    "encoder_travel_type = LabelEncoder()\n",
    "encoder_travel_type.fit(data['TravelType'])\n",
    "data['TravelType'] = encoder_travel_type.transform(data['TravelType'])\n",
    "encoder_pref_channel = LabelEncoder()\n",
    "encoder_pref_channel.fit(data['PrefChannel'])\n",
    "data['PrefChannel'] = encoder_pref_channel.transform(data['PrefChannel'])"
   ]
  },
  {
   "cell_type": "code",
   "execution_count": 76,
   "id": "c1ee3c69",
   "metadata": {},
   "outputs": [
    {
     "data": {
      "text/html": [
       "<div>\n",
       "<style scoped>\n",
       "    .dataframe tbody tr th:only-of-type {\n",
       "        vertical-align: middle;\n",
       "    }\n",
       "\n",
       "    .dataframe tbody tr th {\n",
       "        vertical-align: top;\n",
       "    }\n",
       "\n",
       "    .dataframe thead th {\n",
       "        text-align: right;\n",
       "    }\n",
       "</style>\n",
       "<table border=\"1\" class=\"dataframe\">\n",
       "  <thead>\n",
       "    <tr style=\"text-align: right;\">\n",
       "      <th></th>\n",
       "      <th>CreditCardType</th>\n",
       "      <th>Occupation</th>\n",
       "      <th>Gender</th>\n",
       "      <th>Age</th>\n",
       "      <th>Location</th>\n",
       "      <th>MotorInsurance</th>\n",
       "      <th>MotorValue</th>\n",
       "      <th>MotorType</th>\n",
       "      <th>HealthInsurance</th>\n",
       "      <th>HealthType</th>\n",
       "      <th>HealthDependentsAdults</th>\n",
       "      <th>HealthDependentsKids</th>\n",
       "      <th>TravelInsurance</th>\n",
       "      <th>TravelType</th>\n",
       "      <th>PrefChannel</th>\n",
       "    </tr>\n",
       "  </thead>\n",
       "  <tbody>\n",
       "    <tr>\n",
       "      <th>0</th>\n",
       "      <td>0</td>\n",
       "      <td>259</td>\n",
       "      <td>0</td>\n",
       "      <td>23</td>\n",
       "      <td>1</td>\n",
       "      <td>0</td>\n",
       "      <td>23464.7164</td>\n",
       "      <td>1</td>\n",
       "      <td>0</td>\n",
       "      <td>1</td>\n",
       "      <td>0.816047</td>\n",
       "      <td>1.749119</td>\n",
       "      <td>1</td>\n",
       "      <td>2</td>\n",
       "      <td>2</td>\n",
       "    </tr>\n",
       "    <tr>\n",
       "      <th>1</th>\n",
       "      <td>0</td>\n",
       "      <td>1595</td>\n",
       "      <td>0</td>\n",
       "      <td>44</td>\n",
       "      <td>1</td>\n",
       "      <td>0</td>\n",
       "      <td>23464.7164</td>\n",
       "      <td>1</td>\n",
       "      <td>1</td>\n",
       "      <td>0</td>\n",
       "      <td>2.000000</td>\n",
       "      <td>3.000000</td>\n",
       "      <td>0</td>\n",
       "      <td>5</td>\n",
       "      <td>1</td>\n",
       "    </tr>\n",
       "    <tr>\n",
       "      <th>2</th>\n",
       "      <td>0</td>\n",
       "      <td>1351</td>\n",
       "      <td>0</td>\n",
       "      <td>19</td>\n",
       "      <td>1</td>\n",
       "      <td>1</td>\n",
       "      <td>4920.0000</td>\n",
       "      <td>0</td>\n",
       "      <td>0</td>\n",
       "      <td>1</td>\n",
       "      <td>0.816047</td>\n",
       "      <td>1.749119</td>\n",
       "      <td>0</td>\n",
       "      <td>5</td>\n",
       "      <td>2</td>\n",
       "    </tr>\n",
       "    <tr>\n",
       "      <th>3</th>\n",
       "      <td>1</td>\n",
       "      <td>119</td>\n",
       "      <td>1</td>\n",
       "      <td>47</td>\n",
       "      <td>0</td>\n",
       "      <td>1</td>\n",
       "      <td>14994.0000</td>\n",
       "      <td>1</td>\n",
       "      <td>1</td>\n",
       "      <td>0</td>\n",
       "      <td>1.000000</td>\n",
       "      <td>2.000000</td>\n",
       "      <td>1</td>\n",
       "      <td>1</td>\n",
       "      <td>1</td>\n",
       "    </tr>\n",
       "    <tr>\n",
       "      <th>4</th>\n",
       "      <td>1</td>\n",
       "      <td>1303</td>\n",
       "      <td>0</td>\n",
       "      <td>54</td>\n",
       "      <td>0</td>\n",
       "      <td>1</td>\n",
       "      <td>14605.0000</td>\n",
       "      <td>1</td>\n",
       "      <td>1</td>\n",
       "      <td>1</td>\n",
       "      <td>2.000000</td>\n",
       "      <td>3.000000</td>\n",
       "      <td>0</td>\n",
       "      <td>5</td>\n",
       "      <td>0</td>\n",
       "    </tr>\n",
       "    <tr>\n",
       "      <th>...</th>\n",
       "      <td>...</td>\n",
       "      <td>...</td>\n",
       "      <td>...</td>\n",
       "      <td>...</td>\n",
       "      <td>...</td>\n",
       "      <td>...</td>\n",
       "      <td>...</td>\n",
       "      <td>...</td>\n",
       "      <td>...</td>\n",
       "      <td>...</td>\n",
       "      <td>...</td>\n",
       "      <td>...</td>\n",
       "      <td>...</td>\n",
       "      <td>...</td>\n",
       "      <td>...</td>\n",
       "    </tr>\n",
       "    <tr>\n",
       "      <th>4104</th>\n",
       "      <td>1</td>\n",
       "      <td>901</td>\n",
       "      <td>1</td>\n",
       "      <td>68</td>\n",
       "      <td>0</td>\n",
       "      <td>0</td>\n",
       "      <td>23464.7164</td>\n",
       "      <td>1</td>\n",
       "      <td>1</td>\n",
       "      <td>2</td>\n",
       "      <td>1.000000</td>\n",
       "      <td>0.000000</td>\n",
       "      <td>0</td>\n",
       "      <td>5</td>\n",
       "      <td>1</td>\n",
       "    </tr>\n",
       "    <tr>\n",
       "      <th>4105</th>\n",
       "      <td>1</td>\n",
       "      <td>934</td>\n",
       "      <td>0</td>\n",
       "      <td>45</td>\n",
       "      <td>1</td>\n",
       "      <td>1</td>\n",
       "      <td>36429.0000</td>\n",
       "      <td>1</td>\n",
       "      <td>0</td>\n",
       "      <td>1</td>\n",
       "      <td>0.816047</td>\n",
       "      <td>1.749119</td>\n",
       "      <td>0</td>\n",
       "      <td>5</td>\n",
       "      <td>0</td>\n",
       "    </tr>\n",
       "    <tr>\n",
       "      <th>4106</th>\n",
       "      <td>1</td>\n",
       "      <td>1055</td>\n",
       "      <td>1</td>\n",
       "      <td>48</td>\n",
       "      <td>0</td>\n",
       "      <td>1</td>\n",
       "      <td>14206.0000</td>\n",
       "      <td>1</td>\n",
       "      <td>1</td>\n",
       "      <td>1</td>\n",
       "      <td>0.000000</td>\n",
       "      <td>3.000000</td>\n",
       "      <td>0</td>\n",
       "      <td>5</td>\n",
       "      <td>0</td>\n",
       "    </tr>\n",
       "    <tr>\n",
       "      <th>4107</th>\n",
       "      <td>1</td>\n",
       "      <td>12</td>\n",
       "      <td>1</td>\n",
       "      <td>47</td>\n",
       "      <td>1</td>\n",
       "      <td>1</td>\n",
       "      <td>27251.0000</td>\n",
       "      <td>1</td>\n",
       "      <td>1</td>\n",
       "      <td>1</td>\n",
       "      <td>1.000000</td>\n",
       "      <td>2.000000</td>\n",
       "      <td>0</td>\n",
       "      <td>5</td>\n",
       "      <td>0</td>\n",
       "    </tr>\n",
       "    <tr>\n",
       "      <th>4108</th>\n",
       "      <td>1</td>\n",
       "      <td>1321</td>\n",
       "      <td>0</td>\n",
       "      <td>47</td>\n",
       "      <td>0</td>\n",
       "      <td>1</td>\n",
       "      <td>35626.0000</td>\n",
       "      <td>1</td>\n",
       "      <td>1</td>\n",
       "      <td>1</td>\n",
       "      <td>1.000000</td>\n",
       "      <td>2.000000</td>\n",
       "      <td>0</td>\n",
       "      <td>5</td>\n",
       "      <td>0</td>\n",
       "    </tr>\n",
       "  </tbody>\n",
       "</table>\n",
       "<p>4109 rows × 15 columns</p>\n",
       "</div>"
      ],
      "text/plain": [
       "      CreditCardType  Occupation  Gender  Age  Location  MotorInsurance  \\\n",
       "0                  0         259       0   23         1               0   \n",
       "1                  0        1595       0   44         1               0   \n",
       "2                  0        1351       0   19         1               1   \n",
       "3                  1         119       1   47         0               1   \n",
       "4                  1        1303       0   54         0               1   \n",
       "...              ...         ...     ...  ...       ...             ...   \n",
       "4104               1         901       1   68         0               0   \n",
       "4105               1         934       0   45         1               1   \n",
       "4106               1        1055       1   48         0               1   \n",
       "4107               1          12       1   47         1               1   \n",
       "4108               1        1321       0   47         0               1   \n",
       "\n",
       "      MotorValue  MotorType  HealthInsurance  HealthType  \\\n",
       "0     23464.7164          1                0           1   \n",
       "1     23464.7164          1                1           0   \n",
       "2      4920.0000          0                0           1   \n",
       "3     14994.0000          1                1           0   \n",
       "4     14605.0000          1                1           1   \n",
       "...          ...        ...              ...         ...   \n",
       "4104  23464.7164          1                1           2   \n",
       "4105  36429.0000          1                0           1   \n",
       "4106  14206.0000          1                1           1   \n",
       "4107  27251.0000          1                1           1   \n",
       "4108  35626.0000          1                1           1   \n",
       "\n",
       "      HealthDependentsAdults  HealthDependentsKids  TravelInsurance  \\\n",
       "0                   0.816047              1.749119                1   \n",
       "1                   2.000000              3.000000                0   \n",
       "2                   0.816047              1.749119                0   \n",
       "3                   1.000000              2.000000                1   \n",
       "4                   2.000000              3.000000                0   \n",
       "...                      ...                   ...              ...   \n",
       "4104                1.000000              0.000000                0   \n",
       "4105                0.816047              1.749119                0   \n",
       "4106                0.000000              3.000000                0   \n",
       "4107                1.000000              2.000000                0   \n",
       "4108                1.000000              2.000000                0   \n",
       "\n",
       "      TravelType  PrefChannel  \n",
       "0              2            2  \n",
       "1              5            1  \n",
       "2              5            2  \n",
       "3              1            1  \n",
       "4              5            0  \n",
       "...          ...          ...  \n",
       "4104           5            1  \n",
       "4105           5            0  \n",
       "4106           5            0  \n",
       "4107           5            0  \n",
       "4108           5            0  \n",
       "\n",
       "[4109 rows x 15 columns]"
      ]
     },
     "execution_count": 76,
     "metadata": {},
     "output_type": "execute_result"
    }
   ],
   "source": [
    "data"
   ]
  },
  {
   "cell_type": "code",
   "execution_count": 77,
   "id": "5d68fa5e",
   "metadata": {},
   "outputs": [],
   "source": [
    "## Save the new dataset with encoded data\n",
    "data.to_csv('Insurance_encoded.csv')"
   ]
  },
  {
   "cell_type": "code",
   "execution_count": 78,
   "id": "69b057a8",
   "metadata": {},
   "outputs": [],
   "source": [
    "## Standardize data before clustering\n",
    "from sklearn.preprocessing import StandardScaler\n",
    "scaler = StandardScaler()\n",
    "scaler.fit(data)\n",
    "scaled_data = scaler.transform(data)"
   ]
  },
  {
   "cell_type": "code",
   "execution_count": 79,
   "id": "cd4b3611",
   "metadata": {},
   "outputs": [
    {
     "data": {
      "text/plain": [
       "array([[-1.02751978, -1.57773655, -0.98430423, ...,  0.96861114,\n",
       "        -0.76122178,  1.67104001],\n",
       "       [-1.02751978,  0.93736301, -0.98430423, ..., -1.03240605,\n",
       "         0.86730667,  0.33101202],\n",
       "       [-1.02751978,  0.47801848, -0.98430423, ..., -1.03240605,\n",
       "         0.86730667,  1.67104001],\n",
       "       ...,\n",
       "       [ 0.3348806 , -0.07921915,  1.01594606, ..., -1.03240605,\n",
       "         0.86730667, -1.00901597],\n",
       "       [ 0.3348806 , -2.04272876,  1.01594606, ..., -1.03240605,\n",
       "         0.86730667, -1.00901597],\n",
       "       [ 0.3348806 ,  0.42154169, -0.98430423, ..., -1.03240605,\n",
       "         0.86730667, -1.00901597]])"
      ]
     },
     "execution_count": 79,
     "metadata": {},
     "output_type": "execute_result"
    }
   ],
   "source": [
    "scaled_data"
   ]
  },
  {
   "cell_type": "code",
   "execution_count": 80,
   "id": "212e774d",
   "metadata": {},
   "outputs": [
    {
     "data": {
      "text/plain": [
       "(4109, 15)"
      ]
     },
     "execution_count": 80,
     "metadata": {},
     "output_type": "execute_result"
    }
   ],
   "source": [
    "\n",
    "scaled_data.shape"
   ]
  },
  {
   "cell_type": "markdown",
   "id": "9e2f267c",
   "metadata": {},
   "source": [
    "## Customer Segmentation"
   ]
  },
  {
   "cell_type": "code",
   "execution_count": 81,
   "id": "1b3688b9",
   "metadata": {},
   "outputs": [
    {
     "data": {
      "text/plain": [
       "array([0, 0, 3, ..., 1, 1, 1])"
      ]
     },
     "execution_count": 81,
     "metadata": {},
     "output_type": "execute_result"
    }
   ],
   "source": [
    "## Clustering with 4 cluster\n",
    "\n",
    "from sklearn.cluster import KMeans\n",
    "k_means = KMeans(init = \"k-means++\", n_clusters = 4, n_init = 12)\n",
    "k_means.fit(scaled_data)\n",
    "k_means_labels = k_means.labels_\n",
    "k_means_labels"
   ]
  },
  {
   "cell_type": "code",
   "execution_count": 82,
   "id": "77074372",
   "metadata": {},
   "outputs": [
    {
     "data": {
      "image/png": "[encoded data removed]",
      "text/plain": [
       "<Figure size 432x288 with 1 Axes>"
      ]
     },
     "metadata": {
      "needs_background": "light"
     },
     "output_type": "display_data"
    }
   ],
   "source": [
    "import matplotlib.pyplot as plt\n",
    "# Finding the optimal number of clusters\n",
    "def show_inertia_plot(df, marker_x=None, marker_y=None):\n",
    "    clusters = [1,2,3,4,5,6,7,8,9,10]\n",
    "    inertia_values = []\n",
    "\n",
    "    for cluster in clusters:\n",
    "        k_means = KMeans(n_clusters=cluster)\n",
    "\n",
    "        k_means.fit(df)\n",
    "\n",
    "        inertia_values.append(k_means.inertia_)\n",
    "\n",
    "    plt.title('Inertia versus Number of Clusters')\n",
    "    plt.plot(clusters, inertia_values)\n",
    "    if marker_x and marker_y:\n",
    "        plt.plot(marker_x, inertia_values[marker_y], 'g*', markersize=10)\n",
    "    plt.xlabel('Number of Clusters')\n",
    "    plt.ylabel('Inertia')\n",
    "    plt.show()\n",
    "\n",
    "show_inertia_plot(scaled_data, 4, 3)"
   ]
  },
  {
   "cell_type": "code",
   "execution_count": 83,
   "id": "074e008b",
   "metadata": {},
   "outputs": [
    {
     "data": {
      "text/plain": [
       "45627.2424143584"
      ]
     },
     "execution_count": 83,
     "metadata": {},
     "output_type": "execute_result"
    }
   ],
   "source": [
    "k_means.inertia_"
   ]
  },
  {
   "cell_type": "code",
   "execution_count": 84,
   "id": "76a4accc",
   "metadata": {},
   "outputs": [
    {
     "data": {
      "text/plain": [
       "4109"
      ]
     },
     "execution_count": 84,
     "metadata": {},
     "output_type": "execute_result"
    }
   ],
   "source": [
    "## Length of labels (segmented customers)\n",
    "len(k_means_labels)"
   ]
  },
  {
   "cell_type": "code",
   "execution_count": 85,
   "id": "a9159633",
   "metadata": {},
   "outputs": [
    {
     "data": {
      "text/html": [
       "<div>\n",
       "<style scoped>\n",
       "    .dataframe tbody tr th:only-of-type {\n",
       "        vertical-align: middle;\n",
       "    }\n",
       "\n",
       "    .dataframe tbody tr th {\n",
       "        vertical-align: top;\n",
       "    }\n",
       "\n",
       "    .dataframe thead th {\n",
       "        text-align: right;\n",
       "    }\n",
       "</style>\n",
       "<table border=\"1\" class=\"dataframe\">\n",
       "  <thead>\n",
       "    <tr style=\"text-align: right;\">\n",
       "      <th></th>\n",
       "      <th>CreditCardType</th>\n",
       "      <th>Occupation</th>\n",
       "      <th>Gender</th>\n",
       "      <th>Age</th>\n",
       "      <th>Location</th>\n",
       "      <th>MotorInsurance</th>\n",
       "      <th>MotorValue</th>\n",
       "      <th>MotorType</th>\n",
       "      <th>HealthInsurance</th>\n",
       "      <th>HealthType</th>\n",
       "      <th>HealthDependentsAdults</th>\n",
       "      <th>HealthDependentsKids</th>\n",
       "      <th>TravelInsurance</th>\n",
       "      <th>TravelType</th>\n",
       "      <th>PrefChannel</th>\n",
       "      <th>labels</th>\n",
       "    </tr>\n",
       "  </thead>\n",
       "  <tbody>\n",
       "    <tr>\n",
       "      <th>0</th>\n",
       "      <td>AMEX</td>\n",
       "      <td>Clinical laboratory technologist</td>\n",
       "      <td>female</td>\n",
       "      <td>23</td>\n",
       "      <td>Urban</td>\n",
       "      <td>No</td>\n",
       "      <td>23464.7164</td>\n",
       "      <td>Single</td>\n",
       "      <td>No</td>\n",
       "      <td>Level2</td>\n",
       "      <td>0.816047</td>\n",
       "      <td>1.749119</td>\n",
       "      <td>Yes</td>\n",
       "      <td>Premium</td>\n",
       "      <td>SMS</td>\n",
       "      <td>0</td>\n",
       "    </tr>\n",
       "    <tr>\n",
       "      <th>1</th>\n",
       "      <td>AMEX</td>\n",
       "      <td>not_given</td>\n",
       "      <td>female</td>\n",
       "      <td>44</td>\n",
       "      <td>Urban</td>\n",
       "      <td>No</td>\n",
       "      <td>23464.7164</td>\n",
       "      <td>Single</td>\n",
       "      <td>Yes</td>\n",
       "      <td>Level1</td>\n",
       "      <td>2.000000</td>\n",
       "      <td>3.000000</td>\n",
       "      <td>No</td>\n",
       "      <td>not_given</td>\n",
       "      <td>Phone</td>\n",
       "      <td>0</td>\n",
       "    </tr>\n",
       "    <tr>\n",
       "      <th>2</th>\n",
       "      <td>AMEX</td>\n",
       "      <td>Sheriff</td>\n",
       "      <td>female</td>\n",
       "      <td>19</td>\n",
       "      <td>Urban</td>\n",
       "      <td>Yes</td>\n",
       "      <td>4920.0000</td>\n",
       "      <td>Bundle</td>\n",
       "      <td>No</td>\n",
       "      <td>Level2</td>\n",
       "      <td>0.816047</td>\n",
       "      <td>1.749119</td>\n",
       "      <td>No</td>\n",
       "      <td>not_given</td>\n",
       "      <td>SMS</td>\n",
       "      <td>3</td>\n",
       "    </tr>\n",
       "    <tr>\n",
       "      <th>3</th>\n",
       "      <td>Visa</td>\n",
       "      <td>Automotive painter</td>\n",
       "      <td>male</td>\n",
       "      <td>47</td>\n",
       "      <td>Rural</td>\n",
       "      <td>Yes</td>\n",
       "      <td>14994.0000</td>\n",
       "      <td>Single</td>\n",
       "      <td>Yes</td>\n",
       "      <td>Level1</td>\n",
       "      <td>1.000000</td>\n",
       "      <td>2.000000</td>\n",
       "      <td>Yes</td>\n",
       "      <td>Business</td>\n",
       "      <td>Phone</td>\n",
       "      <td>2</td>\n",
       "    </tr>\n",
       "    <tr>\n",
       "      <th>4</th>\n",
       "      <td>Visa</td>\n",
       "      <td>Risk manager</td>\n",
       "      <td>female</td>\n",
       "      <td>54</td>\n",
       "      <td>Rural</td>\n",
       "      <td>Yes</td>\n",
       "      <td>14605.0000</td>\n",
       "      <td>Single</td>\n",
       "      <td>Yes</td>\n",
       "      <td>Level2</td>\n",
       "      <td>2.000000</td>\n",
       "      <td>3.000000</td>\n",
       "      <td>No</td>\n",
       "      <td>not_given</td>\n",
       "      <td>Email</td>\n",
       "      <td>1</td>\n",
       "    </tr>\n",
       "  </tbody>\n",
       "</table>\n",
       "</div>"
      ],
      "text/plain": [
       "  CreditCardType                        Occupation  Gender  Age Location  \\\n",
       "0           AMEX  Clinical laboratory technologist  female   23    Urban   \n",
       "1           AMEX                         not_given  female   44    Urban   \n",
       "2           AMEX                           Sheriff  female   19    Urban   \n",
       "3           Visa                Automotive painter    male   47    Rural   \n",
       "4           Visa                      Risk manager  female   54    Rural   \n",
       "\n",
       "  MotorInsurance  MotorValue MotorType HealthInsurance HealthType  \\\n",
       "0             No  23464.7164    Single              No     Level2   \n",
       "1             No  23464.7164    Single             Yes     Level1   \n",
       "2            Yes   4920.0000    Bundle              No     Level2   \n",
       "3            Yes  14994.0000    Single             Yes     Level1   \n",
       "4            Yes  14605.0000    Single             Yes     Level2   \n",
       "\n",
       "   HealthDependentsAdults  HealthDependentsKids TravelInsurance TravelType  \\\n",
       "0                0.816047              1.749119             Yes    Premium   \n",
       "1                2.000000              3.000000              No  not_given   \n",
       "2                0.816047              1.749119              No  not_given   \n",
       "3                1.000000              2.000000             Yes   Business   \n",
       "4                2.000000              3.000000              No  not_given   \n",
       "\n",
       "  PrefChannel  labels  \n",
       "0         SMS       0  \n",
       "1       Phone       0  \n",
       "2         SMS       3  \n",
       "3       Phone       2  \n",
       "4       Email       1  "
      ]
     },
     "execution_count": 85,
     "metadata": {},
     "output_type": "execute_result"
    }
   ],
   "source": [
    "## Join the label of clusters with cleaned data \n",
    "data_cleaned = pd.read_csv('Insurance_cleaned.csv').drop(columns=['Unnamed: 0'])\n",
    "data_cleaned['labels'] = k_means_labels\n",
    "data_cleaned.head()"
   ]
  },
  {
   "cell_type": "code",
   "execution_count": 86,
   "id": "05ff76bc",
   "metadata": {},
   "outputs": [],
   "source": [
    "data_cleaned.to_csv('Insurance_customer_segmentation.csv')"
   ]
  },
  {
   "cell_type": "markdown",
   "id": "49cce896",
   "metadata": {},
   "source": [
    "## Findings"
   ]
  },
  {
   "cell_type": "code",
   "execution_count": 87,
   "id": "43c384c5",
   "metadata": {},
   "outputs": [
    {
     "data": {
      "text/html": [
       "<div>\n",
       "<style scoped>\n",
       "    .dataframe tbody tr th:only-of-type {\n",
       "        vertical-align: middle;\n",
       "    }\n",
       "\n",
       "    .dataframe tbody tr th {\n",
       "        vertical-align: top;\n",
       "    }\n",
       "\n",
       "    .dataframe thead th {\n",
       "        text-align: right;\n",
       "    }\n",
       "</style>\n",
       "<table border=\"1\" class=\"dataframe\">\n",
       "  <thead>\n",
       "    <tr style=\"text-align: right;\">\n",
       "      <th></th>\n",
       "      <th>Age</th>\n",
       "      <th>MotorValue</th>\n",
       "      <th>HealthDependentsAdults</th>\n",
       "      <th>HealthDependentsKids</th>\n",
       "    </tr>\n",
       "    <tr>\n",
       "      <th>labels</th>\n",
       "      <th></th>\n",
       "      <th></th>\n",
       "      <th></th>\n",
       "      <th></th>\n",
       "    </tr>\n",
       "  </thead>\n",
       "  <tbody>\n",
       "    <tr>\n",
       "      <th>0</th>\n",
       "      <td>39.674419</td>\n",
       "      <td>23464.716400</td>\n",
       "      <td>0.770253</td>\n",
       "      <td>1.584094</td>\n",
       "    </tr>\n",
       "    <tr>\n",
       "      <th>1</th>\n",
       "      <td>48.825386</td>\n",
       "      <td>22905.550491</td>\n",
       "      <td>0.906916</td>\n",
       "      <td>2.072919</td>\n",
       "    </tr>\n",
       "    <tr>\n",
       "      <th>2</th>\n",
       "      <td>50.897016</td>\n",
       "      <td>29842.438884</td>\n",
       "      <td>0.837709</td>\n",
       "      <td>1.794785</td>\n",
       "    </tr>\n",
       "    <tr>\n",
       "      <th>3</th>\n",
       "      <td>20.412924</td>\n",
       "      <td>17080.178532</td>\n",
       "      <td>0.686134</td>\n",
       "      <td>1.323542</td>\n",
       "    </tr>\n",
       "  </tbody>\n",
       "</table>\n",
       "</div>"
      ],
      "text/plain": [
       "              Age    MotorValue  HealthDependentsAdults  HealthDependentsKids\n",
       "labels                                                                       \n",
       "0       39.674419  23464.716400                0.770253              1.584094\n",
       "1       48.825386  22905.550491                0.906916              2.072919\n",
       "2       50.897016  29842.438884                0.837709              1.794785\n",
       "3       20.412924  17080.178532                0.686134              1.323542"
      ]
     },
     "execution_count": 87,
     "metadata": {},
     "output_type": "execute_result"
    }
   ],
   "source": [
    "# Print out the average values of segmented customers\n",
    "data_cleaned.groupby('labels').mean()"
   ]
  },
  {
   "cell_type": "markdown",
   "id": "18eaaadd",
   "metadata": {},
   "source": [
    "## Research for potential customer segment eligible"
   ]
  },
  {
   "cell_type": "code",
   "execution_count": 88,
   "id": "c4b41a13",
   "metadata": {},
   "outputs": [
    {
     "data": {
      "text/html": [
       "<div>\n",
       "<style scoped>\n",
       "    .dataframe tbody tr th:only-of-type {\n",
       "        vertical-align: middle;\n",
       "    }\n",
       "\n",
       "    .dataframe tbody tr th {\n",
       "        vertical-align: top;\n",
       "    }\n",
       "\n",
       "    .dataframe thead th {\n",
       "        text-align: right;\n",
       "    }\n",
       "</style>\n",
       "<table border=\"1\" class=\"dataframe\">\n",
       "  <thead>\n",
       "    <tr style=\"text-align: right;\">\n",
       "      <th></th>\n",
       "      <th></th>\n",
       "      <th>HealthInsurance</th>\n",
       "      <th>Percentage</th>\n",
       "    </tr>\n",
       "    <tr>\n",
       "      <th>labels</th>\n",
       "      <th>HealthInsurance</th>\n",
       "      <th></th>\n",
       "      <th></th>\n",
       "    </tr>\n",
       "  </thead>\n",
       "  <tbody>\n",
       "    <tr>\n",
       "      <th rowspan=\"2\" valign=\"top\">0</th>\n",
       "      <th>Yes</th>\n",
       "      <td>416</td>\n",
       "      <td>10.124118</td>\n",
       "    </tr>\n",
       "    <tr>\n",
       "      <th>No</th>\n",
       "      <td>315</td>\n",
       "      <td>7.666099</td>\n",
       "    </tr>\n",
       "    <tr>\n",
       "      <th rowspan=\"2\" valign=\"top\">1</th>\n",
       "      <th>Yes</th>\n",
       "      <td>1123</td>\n",
       "      <td>27.330251</td>\n",
       "    </tr>\n",
       "    <tr>\n",
       "      <th>No</th>\n",
       "      <td>303</td>\n",
       "      <td>7.374057</td>\n",
       "    </tr>\n",
       "    <tr>\n",
       "      <th rowspan=\"2\" valign=\"top\">2</th>\n",
       "      <th>Yes</th>\n",
       "      <td>791</td>\n",
       "      <td>19.250426</td>\n",
       "    </tr>\n",
       "    <tr>\n",
       "      <th>No</th>\n",
       "      <td>248</td>\n",
       "      <td>6.035532</td>\n",
       "    </tr>\n",
       "    <tr>\n",
       "      <th rowspan=\"2\" valign=\"top\">3</th>\n",
       "      <th>No</th>\n",
       "      <td>688</td>\n",
       "      <td>16.743733</td>\n",
       "    </tr>\n",
       "    <tr>\n",
       "      <th>Yes</th>\n",
       "      <td>225</td>\n",
       "      <td>5.475785</td>\n",
       "    </tr>\n",
       "  </tbody>\n",
       "</table>\n",
       "</div>"
      ],
      "text/plain": [
       "                        HealthInsurance  Percentage\n",
       "labels HealthInsurance                             \n",
       "0      Yes                          416   10.124118\n",
       "       No                           315    7.666099\n",
       "1      Yes                         1123   27.330251\n",
       "       No                           303    7.374057\n",
       "2      Yes                          791   19.250426\n",
       "       No                           248    6.035532\n",
       "3      No                           688   16.743733\n",
       "       Yes                          225    5.475785"
      ]
     },
     "execution_count": 88,
     "metadata": {},
     "output_type": "execute_result"
    }
   ],
   "source": [
    "df1=pd.DataFrame(data_cleaned.groupby('labels').HealthInsurance.value_counts())\n",
    "df1['Percentage']=pd.DataFrame(data_cleaned.groupby('labels').HealthInsurance.value_counts().rename(\"Percentage\").transform(lambda x: x/x.sum())*100)\n",
    "df1"
   ]
  },
  {
   "cell_type": "code",
   "execution_count": 89,
   "id": "c9d6fd66",
   "metadata": {},
   "outputs": [
    {
     "data": {
      "text/html": [
       "<div>\n",
       "<style scoped>\n",
       "    .dataframe tbody tr th:only-of-type {\n",
       "        vertical-align: middle;\n",
       "    }\n",
       "\n",
       "    .dataframe tbody tr th {\n",
       "        vertical-align: top;\n",
       "    }\n",
       "\n",
       "    .dataframe thead th {\n",
       "        text-align: right;\n",
       "    }\n",
       "</style>\n",
       "<table border=\"1\" class=\"dataframe\">\n",
       "  <thead>\n",
       "    <tr style=\"text-align: right;\">\n",
       "      <th></th>\n",
       "      <th></th>\n",
       "      <th>MotorInsurance</th>\n",
       "      <th>Percentage</th>\n",
       "    </tr>\n",
       "    <tr>\n",
       "      <th>labels</th>\n",
       "      <th>MotorInsurance</th>\n",
       "      <th></th>\n",
       "      <th></th>\n",
       "    </tr>\n",
       "  </thead>\n",
       "  <tbody>\n",
       "    <tr>\n",
       "      <th>0</th>\n",
       "      <th>No</th>\n",
       "      <td>731</td>\n",
       "      <td>17.790217</td>\n",
       "    </tr>\n",
       "    <tr>\n",
       "      <th>1</th>\n",
       "      <th>Yes</th>\n",
       "      <td>1426</td>\n",
       "      <td>34.704308</td>\n",
       "    </tr>\n",
       "    <tr>\n",
       "      <th>2</th>\n",
       "      <th>Yes</th>\n",
       "      <td>1039</td>\n",
       "      <td>25.285958</td>\n",
       "    </tr>\n",
       "    <tr>\n",
       "      <th>3</th>\n",
       "      <th>Yes</th>\n",
       "      <td>913</td>\n",
       "      <td>22.219518</td>\n",
       "    </tr>\n",
       "  </tbody>\n",
       "</table>\n",
       "</div>"
      ],
      "text/plain": [
       "                       MotorInsurance  Percentage\n",
       "labels MotorInsurance                            \n",
       "0      No                         731   17.790217\n",
       "1      Yes                       1426   34.704308\n",
       "2      Yes                       1039   25.285958\n",
       "3      Yes                        913   22.219518"
      ]
     },
     "execution_count": 89,
     "metadata": {},
     "output_type": "execute_result"
    }
   ],
   "source": [
    "df2=pd.DataFrame(data_cleaned.groupby('labels').MotorInsurance.value_counts())\n",
    "df2['Percentage']=pd.DataFrame(data_cleaned.groupby('labels').MotorInsurance.value_counts().rename(\"Percentage\").transform(lambda x: x/x.sum())*100)\n",
    "df2"
   ]
  },
  {
   "cell_type": "code",
   "execution_count": 90,
   "id": "cb25cff5",
   "metadata": {},
   "outputs": [
    {
     "data": {
      "text/html": [
       "<div>\n",
       "<style scoped>\n",
       "    .dataframe tbody tr th:only-of-type {\n",
       "        vertical-align: middle;\n",
       "    }\n",
       "\n",
       "    .dataframe tbody tr th {\n",
       "        vertical-align: top;\n",
       "    }\n",
       "\n",
       "    .dataframe thead th {\n",
       "        text-align: right;\n",
       "    }\n",
       "</style>\n",
       "<table border=\"1\" class=\"dataframe\">\n",
       "  <thead>\n",
       "    <tr style=\"text-align: right;\">\n",
       "      <th></th>\n",
       "      <th></th>\n",
       "      <th>TravelInsurance</th>\n",
       "      <th>Percentage</th>\n",
       "    </tr>\n",
       "    <tr>\n",
       "      <th>labels</th>\n",
       "      <th>TravelInsurance</th>\n",
       "      <th></th>\n",
       "      <th></th>\n",
       "    </tr>\n",
       "  </thead>\n",
       "  <tbody>\n",
       "    <tr>\n",
       "      <th rowspan=\"2\" valign=\"top\">0</th>\n",
       "      <th>Yes</th>\n",
       "      <td>401</td>\n",
       "      <td>9.759065</td>\n",
       "    </tr>\n",
       "    <tr>\n",
       "      <th>No</th>\n",
       "      <td>330</td>\n",
       "      <td>8.031151</td>\n",
       "    </tr>\n",
       "    <tr>\n",
       "      <th rowspan=\"2\" valign=\"top\">1</th>\n",
       "      <th>No</th>\n",
       "      <td>1404</td>\n",
       "      <td>34.168898</td>\n",
       "    </tr>\n",
       "    <tr>\n",
       "      <th>Yes</th>\n",
       "      <td>22</td>\n",
       "      <td>0.535410</td>\n",
       "    </tr>\n",
       "    <tr>\n",
       "      <th rowspan=\"2\" valign=\"top\">2</th>\n",
       "      <th>Yes</th>\n",
       "      <td>1037</td>\n",
       "      <td>25.237284</td>\n",
       "    </tr>\n",
       "    <tr>\n",
       "      <th>No</th>\n",
       "      <td>2</td>\n",
       "      <td>0.048674</td>\n",
       "    </tr>\n",
       "    <tr>\n",
       "      <th rowspan=\"2\" valign=\"top\">3</th>\n",
       "      <th>Yes</th>\n",
       "      <td>660</td>\n",
       "      <td>16.062302</td>\n",
       "    </tr>\n",
       "    <tr>\n",
       "      <th>No</th>\n",
       "      <td>253</td>\n",
       "      <td>6.157216</td>\n",
       "    </tr>\n",
       "  </tbody>\n",
       "</table>\n",
       "</div>"
      ],
      "text/plain": [
       "                        TravelInsurance  Percentage\n",
       "labels TravelInsurance                             \n",
       "0      Yes                          401    9.759065\n",
       "       No                           330    8.031151\n",
       "1      No                          1404   34.168898\n",
       "       Yes                           22    0.535410\n",
       "2      Yes                         1037   25.237284\n",
       "       No                             2    0.048674\n",
       "3      Yes                          660   16.062302\n",
       "       No                           253    6.157216"
      ]
     },
     "execution_count": 90,
     "metadata": {},
     "output_type": "execute_result"
    }
   ],
   "source": [
    "df3=pd.DataFrame(data_cleaned.groupby('labels').TravelInsurance.value_counts())\n",
    "df3['Percentage']=pd.DataFrame(data_cleaned.groupby('labels').TravelInsurance.value_counts().rename(\"Percentage\").transform(lambda x: x/x.sum())*100)\n",
    "df3"
   ]
  },
  {
   "cell_type": "code",
   "execution_count": 91,
   "id": "89725071",
   "metadata": {},
   "outputs": [
    {
     "data": {
      "text/html": [
       "<div>\n",
       "<style scoped>\n",
       "    .dataframe tbody tr th:only-of-type {\n",
       "        vertical-align: middle;\n",
       "    }\n",
       "\n",
       "    .dataframe tbody tr th {\n",
       "        vertical-align: top;\n",
       "    }\n",
       "\n",
       "    .dataframe thead th {\n",
       "        text-align: right;\n",
       "    }\n",
       "</style>\n",
       "<table border=\"1\" class=\"dataframe\">\n",
       "  <thead>\n",
       "    <tr style=\"text-align: right;\">\n",
       "      <th></th>\n",
       "      <th></th>\n",
       "      <th>PrefChannel</th>\n",
       "      <th>Percentage</th>\n",
       "    </tr>\n",
       "    <tr>\n",
       "      <th>labels</th>\n",
       "      <th>PrefChannel</th>\n",
       "      <th></th>\n",
       "      <th></th>\n",
       "    </tr>\n",
       "  </thead>\n",
       "  <tbody>\n",
       "    <tr>\n",
       "      <th rowspan=\"3\" valign=\"top\">0</th>\n",
       "      <th>Phone</th>\n",
       "      <td>274</td>\n",
       "      <td>6.668289</td>\n",
       "    </tr>\n",
       "    <tr>\n",
       "      <th>Email</th>\n",
       "      <td>267</td>\n",
       "      <td>6.497931</td>\n",
       "    </tr>\n",
       "    <tr>\n",
       "      <th>SMS</th>\n",
       "      <td>190</td>\n",
       "      <td>4.623996</td>\n",
       "    </tr>\n",
       "    <tr>\n",
       "      <th rowspan=\"3\" valign=\"top\">1</th>\n",
       "      <th>Phone</th>\n",
       "      <td>774</td>\n",
       "      <td>18.836700</td>\n",
       "    </tr>\n",
       "    <tr>\n",
       "      <th>Email</th>\n",
       "      <td>535</td>\n",
       "      <td>13.020200</td>\n",
       "    </tr>\n",
       "    <tr>\n",
       "      <th>SMS</th>\n",
       "      <td>117</td>\n",
       "      <td>2.847408</td>\n",
       "    </tr>\n",
       "    <tr>\n",
       "      <th rowspan=\"3\" valign=\"top\">2</th>\n",
       "      <th>Email</th>\n",
       "      <td>511</td>\n",
       "      <td>12.436116</td>\n",
       "    </tr>\n",
       "    <tr>\n",
       "      <th>Phone</th>\n",
       "      <td>446</td>\n",
       "      <td>10.854222</td>\n",
       "    </tr>\n",
       "    <tr>\n",
       "      <th>SMS</th>\n",
       "      <td>82</td>\n",
       "      <td>1.995619</td>\n",
       "    </tr>\n",
       "    <tr>\n",
       "      <th rowspan=\"3\" valign=\"top\">3</th>\n",
       "      <th>Email</th>\n",
       "      <td>464</td>\n",
       "      <td>11.292285</td>\n",
       "    </tr>\n",
       "    <tr>\n",
       "      <th>SMS</th>\n",
       "      <td>373</td>\n",
       "      <td>9.077634</td>\n",
       "    </tr>\n",
       "    <tr>\n",
       "      <th>Phone</th>\n",
       "      <td>76</td>\n",
       "      <td>1.849598</td>\n",
       "    </tr>\n",
       "  </tbody>\n",
       "</table>\n",
       "</div>"
      ],
      "text/plain": [
       "                    PrefChannel  Percentage\n",
       "labels PrefChannel                         \n",
       "0      Phone                274    6.668289\n",
       "       Email                267    6.497931\n",
       "       SMS                  190    4.623996\n",
       "1      Phone                774   18.836700\n",
       "       Email                535   13.020200\n",
       "       SMS                  117    2.847408\n",
       "2      Email                511   12.436116\n",
       "       Phone                446   10.854222\n",
       "       SMS                   82    1.995619\n",
       "3      Email                464   11.292285\n",
       "       SMS                  373    9.077634\n",
       "       Phone                 76    1.849598"
      ]
     },
     "execution_count": 91,
     "metadata": {},
     "output_type": "execute_result"
    }
   ],
   "source": [
    "df4=pd.DataFrame(data_cleaned.groupby('labels').PrefChannel.value_counts())\n",
    "df4['Percentage']=pd.DataFrame(data_cleaned.groupby('labels').PrefChannel.value_counts().rename(\"Percentage\").transform(lambda x: x/x.sum())*100)\n",
    "df4"
   ]
  },
  {
   "cell_type": "code",
   "execution_count": 92,
   "id": "7eaf6cfa",
   "metadata": {},
   "outputs": [
    {
     "name": "stdout",
     "output_type": "stream",
     "text": [
      "The accuracy of KNN Model is  99.29\n"
     ]
    }
   ],
   "source": [
    "from sklearn.neighbors import KNeighborsClassifier\n",
    "model = KNeighborsClassifier(n_neighbors=3)\n",
    "model.fit(scaled_data,data_cleaned['labels'])\n",
    "print(\"The accuracy of KNN Model is \",round(model.score(scaled_data,data_cleaned['labels'])*100,2))"
   ]
  },
  {
   "cell_type": "markdown",
   "id": "243bc06b",
   "metadata": {},
   "source": [
    "### Validation of the model with KNN Neighbor Algorithm"
   ]
  },
  {
   "cell_type": "code",
   "execution_count": 93,
   "id": "8cd8be14",
   "metadata": {},
   "outputs": [],
   "source": [
    "X = scaled_data\n",
    "y = np.array(data_cleaned['labels']) "
   ]
  },
  {
   "cell_type": "code",
   "execution_count": 94,
   "id": "fda97f62",
   "metadata": {},
   "outputs": [
    {
     "data": {
      "text/plain": [
       "array([[-1.02751978, -1.57773655, -0.98430423, ...,  0.96861114,\n",
       "        -0.76122178,  1.67104001],\n",
       "       [-1.02751978,  0.93736301, -0.98430423, ..., -1.03240605,\n",
       "         0.86730667,  0.33101202],\n",
       "       [-1.02751978,  0.47801848, -0.98430423, ..., -1.03240605,\n",
       "         0.86730667,  1.67104001],\n",
       "       ...,\n",
       "       [ 0.3348806 , -0.07921915,  1.01594606, ..., -1.03240605,\n",
       "         0.86730667, -1.00901597],\n",
       "       [ 0.3348806 , -2.04272876,  1.01594606, ..., -1.03240605,\n",
       "         0.86730667, -1.00901597],\n",
       "       [ 0.3348806 ,  0.42154169, -0.98430423, ..., -1.03240605,\n",
       "         0.86730667, -1.00901597]])"
      ]
     },
     "execution_count": 94,
     "metadata": {},
     "output_type": "execute_result"
    }
   ],
   "source": [
    "X"
   ]
  },
  {
   "cell_type": "code",
   "execution_count": 95,
   "id": "3f2d3eaa",
   "metadata": {},
   "outputs": [
    {
     "data": {
      "text/plain": [
       "array([0, 0, 3, ..., 1, 1, 1])"
      ]
     },
     "execution_count": 95,
     "metadata": {},
     "output_type": "execute_result"
    }
   ],
   "source": [
    "y"
   ]
  },
  {
   "cell_type": "code",
   "execution_count": 96,
   "id": "ea4b3a31",
   "metadata": {},
   "outputs": [],
   "source": [
    "from sklearn.model_selection import train_test_split\n",
    "\n",
    "X_train, X_test, y_train, y_test = train_test_split(X,y,test_size = 0.25,random_state = 100)"
   ]
  },
  {
   "cell_type": "markdown",
   "id": "7fb52768",
   "metadata": {},
   "source": [
    "### Creating the training and test set"
   ]
  },
  {
   "cell_type": "code",
   "execution_count": 97,
   "id": "179d03b7",
   "metadata": {},
   "outputs": [],
   "source": [
    "from sklearn.neighbors import KNeighborsClassifier\n",
    "# instantiate learning model with k=3\n",
    "model2=knn = KNeighborsClassifier(n_neighbors = 9)\n",
    "# fitting model\n",
    "model2=knn.fit(X_train,y_train)\n",
    "#predict\n",
    "pred = model2.predict(X_test)"
   ]
  },
  {
   "cell_type": "code",
   "execution_count": 98,
   "id": "5fda3080",
   "metadata": {},
   "outputs": [
    {
     "name": "stdout",
     "output_type": "stream",
     "text": [
      "The Accuracy score is:0.9815175097276264\n"
     ]
    }
   ],
   "source": [
    "from sklearn.metrics import accuracy_score\n",
    "print(\"The Accuracy score is:{}\".format(accuracy_score(y_test,pred)))"
   ]
  },
  {
   "cell_type": "code",
   "execution_count": 99,
   "id": "3d9f3dfb",
   "metadata": {},
   "outputs": [
    {
     "data": {
      "text/plain": [
       "[0.976629680998613,\n",
       " 0.9831252889505316,\n",
       " 0.9837714874122641,\n",
       " 0.9840961627369393,\n",
       " 0.9857205900895222,\n",
       " 0.9850691379817593,\n",
       " 0.9831231874921194]"
      ]
     },
     "execution_count": 99,
     "metadata": {},
     "output_type": "execute_result"
    }
   ],
   "source": [
    "### Code from the blog https://deveshpoojari.medium.com/k-nearest-neighbors-and-its-optimization-2e3f6797af04\n",
    "from sklearn.neighbors import KNeighborsClassifier\n",
    "from sklearn.model_selection import cross_val_score\n",
    "# Creating odd list K for KNN\n",
    "neighbors = list(range(1,15,2))\n",
    "# empty list that will hold cv scores\n",
    "cv_scores = [ ]\n",
    "#perform 10-fold cross-validation\n",
    "for K in neighbors:\n",
    "    knn = KNeighborsClassifier(n_neighbors = K)\n",
    "    scores = cross_val_score(knn,X_train,y_train,cv = 10,scoring =\"accuracy\")\n",
    "    cv_scores.append(scores.mean())\n",
    "cv_scores"
   ]
  },
  {
   "cell_type": "code",
   "execution_count": 100,
   "id": "e9eb8591",
   "metadata": {},
   "outputs": [
    {
     "name": "stdout",
     "output_type": "stream",
     "text": [
      "The optimal no. of neighbors is 9\n"
     ]
    }
   ],
   "source": [
    "###Code from the blog https://deveshpoojari.medium.com/k-nearest-neighbors-and-its-optimization-2e3f6797af04\n",
    "\n",
    "# Changing to mis classification error\n",
    "mse = [1-x for x in cv_scores]\n",
    "# determing best k\n",
    "optimal_k = neighbors[mse.index(min(mse))]\n",
    "print(\"The optimal no. of neighbors is {}\".format(optimal_k))"
   ]
  },
  {
   "cell_type": "code",
   "execution_count": 101,
   "id": "0551a8f0",
   "metadata": {},
   "outputs": [
    {
     "name": "stdout",
     "output_type": "stream",
     "text": [
      "The optimal number of neighbors is 9\n"
     ]
    },
    {
     "data": {
      "image/png": "[encoded data removed]",
      "text/plain": [
       "<Figure size 432x288 with 1 Axes>"
      ]
     },
     "metadata": {
      "needs_background": "light"
     },
     "output_type": "display_data"
    }
   ],
   "source": [
    "### Code from the blog https://deveshpoojari.medium.com/k-nearest-neighbors-and-its-optimization-2e3f6797af04\n",
    "\n",
    "\n",
    "# changing to misclassification error\n",
    "mse = [1 - x for x in cv_scores]\n",
    "\n",
    "# determining best k\n",
    "optimal_k = neighbors[mse.index(min(mse))]\n",
    "print(\"The optimal number of neighbors is {}\".format(optimal_k))\n",
    "\n",
    "# plot misclassification error vs k\n",
    "plt.plot(neighbors, mse)\n",
    "plt.xlabel(\"Number of Neighbors K\")\n",
    "plt.ylabel(\"Misclassification Error\")\n",
    "plt.show()\n"
   ]
  },
  {
   "cell_type": "code",
   "execution_count": 102,
   "id": "f4330f58",
   "metadata": {},
   "outputs": [],
   "source": [
    "## Save the model\n",
    "import pickle\n",
    "# save the classifier\n",
    "with open('customer_segmentation2.pkl', 'wb') as fid:\n",
    "    pickle.dump(model2, fid)    "
   ]
  },
  {
   "cell_type": "code",
   "execution_count": 104,
   "id": "358436d8",
   "metadata": {},
   "outputs": [
    {
     "data": {
      "text/plain": [
       "KNeighborsClassifier(n_neighbors=9)"
      ]
     },
     "execution_count": 104,
     "metadata": {},
     "output_type": "execute_result"
    }
   ],
   "source": [
    "# Loading model to compare the results\n",
    "model2= pickle.load(open('customer_segmentation2.pkl','rb'))\n",
    "model2"
   ]
  },
  {
   "cell_type": "code",
   "execution_count": null,
   "id": "9d32467f",
   "metadata": {},
   "outputs": [],
   "source": []
  }
 ],
 "metadata": {
  "kernelspec": {
   "display_name": "Python 3",
   "language": "python",
   "name": "python3"
  },
  "language_info": {
   "codemirror_mode": {
    "name": "ipython",
    "version": 3
   },
   "file_extension": ".py",
   "mimetype": "text/x-python",
   "name": "python",
   "nbconvert_exporter": "python",
   "pygments_lexer": "ipython3",
   "version": "3.8.8"
  }
 },
 "nbformat": 4,
 "nbformat_minor": 5
}
